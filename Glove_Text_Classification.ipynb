{
  "nbformat": 4,
  "nbformat_minor": 0,
  "metadata": {
    "colab": {
      "provenance": [],
      "collapsed_sections": [
        "Wg9068Q7k3se"
      ]
    },
    "kernelspec": {
      "name": "python3",
      "display_name": "Python 3"
    },
    "language_info": {
      "name": "python"
    }
  },
  "cells": [
    {
      "cell_type": "markdown",
      "source": [
        "# CNN Model"
      ],
      "metadata": {
        "id": "XVlz37kgbwHL"
      }
    },
    {
      "cell_type": "markdown",
      "source": [
        "## Library yang digunakan"
      ],
      "metadata": {
        "id": "5X_HbqElXqge"
      }
    },
    {
      "cell_type": "code",
      "source": [
        "import pandas as pd\n",
        "from sklearn.feature_extraction.text import CountVectorizer\n",
        "from keras.wrappers.scikit_learn import KerasClassifier\n",
        "from sklearn.model_selection import RandomizedSearchCV\n",
        "\n",
        "!pip install keras\n",
        "\n",
        "from keras.models import Sequential\n",
        "from keras import layers\n",
        "\n",
        "import matplotlib.pyplot as plt\n",
        "plt.style.use('ggplot')\n",
        "\n",
        "\n",
        "from keras.preprocessing.text import Tokenizer\n",
        "from keras.preprocessing.sequence import pad_sequences\n",
        "import math\n",
        "import numpy as np"
      ],
      "metadata": {
        "id": "5gIPJz7XbnoZ"
      },
      "execution_count": null,
      "outputs": []
    },
    {
      "cell_type": "markdown",
      "source": [
        "## Read dataset"
      ],
      "metadata": {
        "id": "We9y4yFYXu_s"
      }
    },
    {
      "cell_type": "markdown",
      "source": [
        "Read From Drive\n",
        "---\n",
        "Bisa mendownload drive ini dan upload ke google drive pengguna\n",
        "- https://drive.google.com/drive/folders/1R9ul8ejLAhPVenBNJhUNHQFc152NlbMK?usp=sharing\n",
        "\n",
        "\n",
        "Read From Folder\n",
        "---\n",
        "\n",
        "1. Simpan folder pada lokasi yang sama dengan file .ipynb\n",
        "2. Download glove dataset pada laman berikut dan simpan didalam folder\n",
        "https://nlp-stanford-edu.translate.goog/projects/glove/?_x_tr_sl=auto&_x_tr_tl=id&_x_tr_hl=en&_x_tr_pto=wapp"
      ],
      "metadata": {
        "id": "9rU1N63j0NL7"
      }
    },
    {
      "cell_type": "markdown",
      "source": [
        "### From Drive\n"
      ],
      "metadata": {
        "id": "ViHLppblz0pJ"
      }
    },
    {
      "cell_type": "code",
      "execution_count": null,
      "metadata": {
        "colab": {
          "base_uri": "https://localhost:8080/"
        },
        "id": "0FTQQVeKZIgw",
        "outputId": "51c4eabc-5587-4e0c-9f21-3ea5b7e65f3b"
      },
      "outputs": [
        {
          "output_type": "stream",
          "name": "stdout",
          "text": [
            "Drive already mounted at /content/drive; to attempt to forcibly remount, call drive.mount(\"/content/drive\", force_remount=True).\n"
          ]
        }
      ],
      "source": [
        "# from google.colab import drive\n",
        "# drive.mount('/content/drive')"
      ]
    },
    {
      "cell_type": "code",
      "source": [
        "# df_labels = pd.read_csv('drive/MyDrive/data_worthcheck/labels.txt', sep=\"\\n\", header=None)\n",
        "\n",
        "# df_labels_list = list(df_labels[0])\n",
        "# df_labels_list"
      ],
      "metadata": {
        "colab": {
          "base_uri": "https://localhost:8080/"
        },
        "id": "-twWtDlqbi37",
        "outputId": "52a501fd-160a-45a4-e2d5-3350f4ccdb3d"
      },
      "execution_count": null,
      "outputs": [
        {
          "output_type": "execute_result",
          "data": {
            "text/plain": [
              "['no', 'yes']"
            ]
          },
          "metadata": {},
          "execution_count": 25
        }
      ]
    },
    {
      "cell_type": "code",
      "source": [
        "# df_train = pd.read_csv('drive/MyDrive/data_worthcheck/train.csv')\n",
        "\n",
        "# df_train_key = df_train['text_a'].values\n",
        "# df_train_val = df_train['label'].values"
      ],
      "metadata": {
        "id": "GP3yLtlgbAwG"
      },
      "execution_count": null,
      "outputs": []
    },
    {
      "cell_type": "code",
      "source": [
        "# df_train_key"
      ],
      "metadata": {
        "colab": {
          "base_uri": "https://localhost:8080/"
        },
        "id": "Udr2GLvRXgba",
        "outputId": "56561888-0ad4-4954-dffb-ddbcea0abf35"
      },
      "execution_count": null,
      "outputs": [
        {
          "output_type": "execute_result",
          "data": {
            "text/plain": [
              "array(['betewe buka twitter cuman ngetweet liat home berita corona panik kepikiran ndamau buka2 home yg aware aja i ll stay at home nda rumah kalo nda penting2 banget',\n",
              "       'mas piyuuu mugo2 corona tuh mulut tersumpal ma corona',\n",
              "       'e100ss gini buka informasi sejelas nya identitas daerah penderita terjangkit infokan masyarakat mengisolasi nya kontak langsung penderita positif corona ditutup tutupi',\n",
              "       ...,\n",
              "       'virus corona menyaba depok cuci tangan makan nya biar tangan ora lengket be kena nasi',\n",
              "       'mata sipit tinggal depok udah abis dah bahan cengan dikampus bangsd dikit dikit corona co amp tol',\n",
              "       'i ak batuk pilek pusing demam anjir ak depok'], dtype=object)"
            ]
          },
          "metadata": {},
          "execution_count": 27
        }
      ]
    },
    {
      "cell_type": "code",
      "source": [
        "# df_train_val"
      ],
      "metadata": {
        "colab": {
          "base_uri": "https://localhost:8080/"
        },
        "id": "ZxTNXAgmXhAv",
        "outputId": "160d48f0-0249-486e-9602-62abfb995393"
      },
      "execution_count": null,
      "outputs": [
        {
          "output_type": "execute_result",
          "data": {
            "text/plain": [
              "array(['no', 'no', 'yes', ..., 'no', 'no', 'no'], dtype=object)"
            ]
          },
          "metadata": {},
          "execution_count": 28
        }
      ]
    },
    {
      "cell_type": "code",
      "source": [
        "df_validation = pd.read_csv('drive/MyDrive/data_worthcheck/dev.csv')\n",
        "\n",
        "df_validation_key = df_validation['text_a'].values\n",
        "df_validation_val = df_validation['label'].values"
      ],
      "metadata": {
        "id": "tDfVBtT9jvHd"
      },
      "execution_count": null,
      "outputs": []
    },
    {
      "cell_type": "code",
      "source": [
        "# df_validation_key"
      ],
      "metadata": {
        "colab": {
          "base_uri": "https://localhost:8080/"
        },
        "id": "3YL8XL2IXjUg",
        "outputId": "05c52224-e5e7-440a-8dc3-ffcf1eeb92db"
      },
      "execution_count": null,
      "outputs": [
        {
          "output_type": "execute_result",
          "data": {
            "text/plain": [
              "array(['jek dajal ga depok bang',\n",
              "       'detikcom untung depok masuk wilayah nya ridwan kamil kalo masuk wilayah nya anis abis lu bully ama buzzer kolam',\n",
              "       'df dom jakarta depok yg gunain vc cabang nya cabang yg tercantum pas kesana gabisa bayar pake shopeepay',\n",
              "       ...,\n",
              "       '4 terawan menyebut virus corona indonesia terdeteksi minggu kemarin mendengar berita pemerintah langsung pemeriksaan covid19indonesia',\n",
              "       'realffk buhari can t pronounce corona virus',\n",
              "       'hadapi wabah corona pemuda muhammadiyah pemerintah cegah munculnya kepanikan'],\n",
              "      dtype=object)"
            ]
          },
          "metadata": {},
          "execution_count": 30
        }
      ]
    },
    {
      "cell_type": "code",
      "source": [
        "# df_validation_val"
      ],
      "metadata": {
        "colab": {
          "base_uri": "https://localhost:8080/"
        },
        "id": "j5PjJlZaXj6D",
        "outputId": "34a0039d-1326-4a14-d181-04422dfcbbb4"
      },
      "execution_count": null,
      "outputs": [
        {
          "output_type": "execute_result",
          "data": {
            "text/plain": [
              "array(['no', 'no', 'no', ..., 'yes', 'no', 'yes'], dtype=object)"
            ]
          },
          "metadata": {},
          "execution_count": 31
        }
      ]
    },
    {
      "cell_type": "code",
      "source": [
        "# df_test = pd.read_csv('drive/MyDrive/data_worthcheck/test.csv')\n",
        "\n",
        "# df_test_key = df_test['text_a'].values\n",
        "# df_test_val = df_test['label'].values"
      ],
      "metadata": {
        "id": "NldBlDS7bDRR"
      },
      "execution_count": null,
      "outputs": []
    },
    {
      "cell_type": "code",
      "source": [
        "# df_test_key"
      ],
      "metadata": {
        "colab": {
          "base_uri": "https://localhost:8080/"
        },
        "id": "jWtZNilyXdrz",
        "outputId": "a3239cb2-ff4c-4fc8-b803-f5fcba385195"
      },
      "execution_count": null,
      "outputs": [
        {
          "output_type": "execute_result",
          "data": {
            "text/plain": [
              "array(['jek dajal ga depok bang',\n",
              "       'detikcom untung depok masuk wilayah nya ridwan kamil kalo masuk wilayah nya anis abis lu bully ama buzzer kolam',\n",
              "       'df dom jakarta depok yg gunain vc cabang nya cabang yg tercantum pas kesana gabisa bayar pake shopeepay',\n",
              "       ...,\n",
              "       '4 terawan menyebut virus corona indonesia terdeteksi minggu kemarin mendengar berita pemerintah langsung pemeriksaan covid19indonesia',\n",
              "       'realffk buhari can t pronounce corona virus',\n",
              "       'hadapi wabah corona pemuda muhammadiyah pemerintah cegah munculnya kepanikan'],\n",
              "      dtype=object)"
            ]
          },
          "metadata": {},
          "execution_count": 33
        }
      ]
    },
    {
      "cell_type": "code",
      "source": [
        "# df_test_val"
      ],
      "metadata": {
        "colab": {
          "base_uri": "https://localhost:8080/"
        },
        "id": "q1inaNAUXeHR",
        "outputId": "26018bb7-1409-45ba-9ac8-692b8b71a0aa"
      },
      "execution_count": null,
      "outputs": [
        {
          "output_type": "execute_result",
          "data": {
            "text/plain": [
              "array(['no', 'no', 'no', ..., 'yes', 'no', 'yes'], dtype=object)"
            ]
          },
          "metadata": {},
          "execution_count": 34
        }
      ]
    },
    {
      "cell_type": "markdown",
      "source": [
        "### From Local Folder\n"
      ],
      "metadata": {
        "id": "RtJRypK002ye"
      }
    },
    {
      "cell_type": "code",
      "source": [
        "df_labels = pd.read_csv('data_worthcheck/labels.txt', sep=\"\\n\", header=None)\n",
        "\n",
        "df_labels_list = list(df_labels[0])\n",
        "df_labels_list"
      ],
      "metadata": {
        "colab": {
          "base_uri": "https://localhost:8080/"
        },
        "outputId": "52a501fd-160a-45a4-e2d5-3350f4ccdb3d",
        "id": "HNpk1CnK02yi"
      },
      "execution_count": null,
      "outputs": [
        {
          "output_type": "execute_result",
          "data": {
            "text/plain": [
              "['no', 'yes']"
            ]
          },
          "metadata": {},
          "execution_count": 25
        }
      ]
    },
    {
      "cell_type": "code",
      "source": [
        "df_train = pd.read_csv('data_worthcheck/train.csv')\n",
        "\n",
        "df_train_key = df_train['text_a'].values\n",
        "df_train_val = df_train['label'].values"
      ],
      "metadata": {
        "id": "WK3SzKPY02yj"
      },
      "execution_count": null,
      "outputs": []
    },
    {
      "cell_type": "code",
      "source": [
        "df_train_key"
      ],
      "metadata": {
        "colab": {
          "base_uri": "https://localhost:8080/"
        },
        "outputId": "56561888-0ad4-4954-dffb-ddbcea0abf35",
        "id": "1XNpIOlh02yj"
      },
      "execution_count": null,
      "outputs": [
        {
          "output_type": "execute_result",
          "data": {
            "text/plain": [
              "array(['betewe buka twitter cuman ngetweet liat home berita corona panik kepikiran ndamau buka2 home yg aware aja i ll stay at home nda rumah kalo nda penting2 banget',\n",
              "       'mas piyuuu mugo2 corona tuh mulut tersumpal ma corona',\n",
              "       'e100ss gini buka informasi sejelas nya identitas daerah penderita terjangkit infokan masyarakat mengisolasi nya kontak langsung penderita positif corona ditutup tutupi',\n",
              "       ...,\n",
              "       'virus corona menyaba depok cuci tangan makan nya biar tangan ora lengket be kena nasi',\n",
              "       'mata sipit tinggal depok udah abis dah bahan cengan dikampus bangsd dikit dikit corona co amp tol',\n",
              "       'i ak batuk pilek pusing demam anjir ak depok'], dtype=object)"
            ]
          },
          "metadata": {},
          "execution_count": 27
        }
      ]
    },
    {
      "cell_type": "code",
      "source": [
        "df_train_val"
      ],
      "metadata": {
        "colab": {
          "base_uri": "https://localhost:8080/"
        },
        "outputId": "160d48f0-0249-486e-9602-62abfb995393",
        "id": "kve5OTtD02yk"
      },
      "execution_count": null,
      "outputs": [
        {
          "output_type": "execute_result",
          "data": {
            "text/plain": [
              "array(['no', 'no', 'yes', ..., 'no', 'no', 'no'], dtype=object)"
            ]
          },
          "metadata": {},
          "execution_count": 28
        }
      ]
    },
    {
      "cell_type": "code",
      "source": [
        "df_validation = pd.read_csv('drive/MyDrive/data_worthcheck/dev.csv')\n",
        "\n",
        "df_validation_key = df_validation['text_a'].values\n",
        "df_validation_val = df_validation['label'].values"
      ],
      "metadata": {
        "id": "T3ZKQdqa02yl"
      },
      "execution_count": null,
      "outputs": []
    },
    {
      "cell_type": "code",
      "source": [
        "df_validation_key"
      ],
      "metadata": {
        "colab": {
          "base_uri": "https://localhost:8080/"
        },
        "outputId": "05c52224-e5e7-440a-8dc3-ffcf1eeb92db",
        "id": "_OXenln102ym"
      },
      "execution_count": null,
      "outputs": [
        {
          "output_type": "execute_result",
          "data": {
            "text/plain": [
              "array(['jek dajal ga depok bang',\n",
              "       'detikcom untung depok masuk wilayah nya ridwan kamil kalo masuk wilayah nya anis abis lu bully ama buzzer kolam',\n",
              "       'df dom jakarta depok yg gunain vc cabang nya cabang yg tercantum pas kesana gabisa bayar pake shopeepay',\n",
              "       ...,\n",
              "       '4 terawan menyebut virus corona indonesia terdeteksi minggu kemarin mendengar berita pemerintah langsung pemeriksaan covid19indonesia',\n",
              "       'realffk buhari can t pronounce corona virus',\n",
              "       'hadapi wabah corona pemuda muhammadiyah pemerintah cegah munculnya kepanikan'],\n",
              "      dtype=object)"
            ]
          },
          "metadata": {},
          "execution_count": 30
        }
      ]
    },
    {
      "cell_type": "code",
      "source": [
        "df_validation_val"
      ],
      "metadata": {
        "colab": {
          "base_uri": "https://localhost:8080/"
        },
        "outputId": "34a0039d-1326-4a14-d181-04422dfcbbb4",
        "id": "m9O-DWU302yn"
      },
      "execution_count": null,
      "outputs": [
        {
          "output_type": "execute_result",
          "data": {
            "text/plain": [
              "array(['no', 'no', 'no', ..., 'yes', 'no', 'yes'], dtype=object)"
            ]
          },
          "metadata": {},
          "execution_count": 31
        }
      ]
    },
    {
      "cell_type": "code",
      "source": [
        "df_test = pd.read_csv('data_worthcheck/test.csv')\n",
        "\n",
        "df_test_key = df_test['text_a'].values\n",
        "df_test_val = df_test['label'].values"
      ],
      "metadata": {
        "id": "OMnhwS-Y02yp"
      },
      "execution_count": null,
      "outputs": []
    },
    {
      "cell_type": "code",
      "source": [
        "df_test_key"
      ],
      "metadata": {
        "colab": {
          "base_uri": "https://localhost:8080/"
        },
        "outputId": "a3239cb2-ff4c-4fc8-b803-f5fcba385195",
        "id": "zoGxdnsZ02yq"
      },
      "execution_count": null,
      "outputs": [
        {
          "output_type": "execute_result",
          "data": {
            "text/plain": [
              "array(['jek dajal ga depok bang',\n",
              "       'detikcom untung depok masuk wilayah nya ridwan kamil kalo masuk wilayah nya anis abis lu bully ama buzzer kolam',\n",
              "       'df dom jakarta depok yg gunain vc cabang nya cabang yg tercantum pas kesana gabisa bayar pake shopeepay',\n",
              "       ...,\n",
              "       '4 terawan menyebut virus corona indonesia terdeteksi minggu kemarin mendengar berita pemerintah langsung pemeriksaan covid19indonesia',\n",
              "       'realffk buhari can t pronounce corona virus',\n",
              "       'hadapi wabah corona pemuda muhammadiyah pemerintah cegah munculnya kepanikan'],\n",
              "      dtype=object)"
            ]
          },
          "metadata": {},
          "execution_count": 33
        }
      ]
    },
    {
      "cell_type": "code",
      "source": [
        "df_test_val"
      ],
      "metadata": {
        "colab": {
          "base_uri": "https://localhost:8080/"
        },
        "outputId": "26018bb7-1409-45ba-9ac8-692b8b71a0aa",
        "id": "fTWvJlHt02ys"
      },
      "execution_count": null,
      "outputs": [
        {
          "output_type": "execute_result",
          "data": {
            "text/plain": [
              "array(['no', 'no', 'no', ..., 'yes', 'no', 'yes'], dtype=object)"
            ]
          },
          "metadata": {},
          "execution_count": 34
        }
      ]
    },
    {
      "cell_type": "markdown",
      "source": [
        "## Hitung frekuensi kemunculan kata"
      ],
      "metadata": {
        "id": "8PBFSFtjX99P"
      }
    },
    {
      "cell_type": "code",
      "source": [
        "# Menghitung frekuensi kemunculan setiap kata dalam kalimat\n",
        "# Untuk membuat vektor kalimat\n",
        "\n",
        "from sklearn.feature_extraction.text import CountVectorizer\n",
        "\n",
        "vectorizer = CountVectorizer()\n",
        "vectorizer.fit(df_train_key)\n",
        "vectorizer.vocabulary_"
      ],
      "metadata": {
        "id": "yyvspj9EZ-HA",
        "colab": {
          "base_uri": "https://localhost:8080/"
        },
        "outputId": "14ba58f4-f887-4625-c6ee-a1147902c7d3"
      },
      "execution_count": null,
      "outputs": [
        {
          "output_type": "execute_result",
          "data": {
            "text/plain": [
              "{'betewe': 6195,\n",
              " 'buka': 7379,\n",
              " 'twitter': 42528,\n",
              " 'cuman': 9121,\n",
              " 'ngetweet': 29120,\n",
              " 'liat': 23493,\n",
              " 'home': 16546,\n",
              " 'berita': 5678,\n",
              " 'corona': 8851,\n",
              " 'panik': 31063,\n",
              " 'kepikiran': 21015,\n",
              " 'ndamau': 28541,\n",
              " 'buka2': 7380,\n",
              " 'yg': 45345,\n",
              " 'aware': 4071,\n",
              " 'aja': 2307,\n",
              " 'll': 23697,\n",
              " 'stay': 39202,\n",
              " 'at': 3871,\n",
              " 'nda': 28528,\n",
              " 'rumah': 36003,\n",
              " 'kalo': 19775,\n",
              " 'penting2': 32184,\n",
              " 'banget': 4664,\n",
              " 'mas': 24868,\n",
              " 'piyuuu': 32997,\n",
              " 'mugo2': 27797,\n",
              " 'tuh': 42264,\n",
              " 'mulut': 27896,\n",
              " 'tersumpal': 41167,\n",
              " 'ma': 24104,\n",
              " 'e100ss': 12346,\n",
              " 'gini': 14853,\n",
              " 'informasi': 17679,\n",
              " 'sejelas': 37176,\n",
              " 'nya': 29886,\n",
              " 'identitas': 17065,\n",
              " 'daerah': 9290,\n",
              " 'penderita': 31904,\n",
              " 'terjangkit': 40987,\n",
              " 'infokan': 17652,\n",
              " 'masyarakat': 25005,\n",
              " 'mengisolasi': 26266,\n",
              " 'kontak': 22147,\n",
              " 'langsung': 23057,\n",
              " 'positif': 33467,\n",
              " 'ditutup': 11638,\n",
              " 'tutupi': 42472,\n",
              " 'neng': 28681,\n",
              " 'solo': 38860,\n",
              " 'wes': 44388,\n",
              " 'ono': 30436,\n",
              " 'terduga': 40906,\n",
              " 'cobo': 8644,\n",
              " 'ati': 3909,\n",
              " 'mu': 27724,\n",
              " 'conora': 8768,\n",
              " 'midiahn': 26943,\n",
              " 'nii': 29338,\n",
              " 'akun': 2505,\n",
              " 'gak': 14229,\n",
              " 'takut': 40137,\n",
              " 'isu': 18142,\n",
              " 'wkwkwkw': 44614,\n",
              " 'hey': 16223,\n",
              " 'prrgi': 33949,\n",
              " 'sna': 38722,\n",
              " 'gara': 14389,\n",
              " 'masuk': 24991,\n",
              " 'ketempat': 21271,\n",
              " 'mesti': 26828,\n",
              " 'scan': 36850,\n",
              " 'jidat': 18981,\n",
              " 'gw': 15371,\n",
              " 'kek': 20607,\n",
              " 'jajanan': 18464,\n",
              " 'indomaret': 17525,\n",
              " 'jokowi': 19231,\n",
              " 'menteri2': 26479,\n",
              " 'silakan': 38274,\n",
              " 'tes': 41219,\n",
              " 'pencegahan': 31869,\n",
              " 'other': 30629,\n",
              " 'moms': 27449,\n",
              " 'minum': 27103,\n",
              " 'multivitamin': 27891,\n",
              " 'my': 28101,\n",
              " 'mom': 27436,\n",
              " 'rebusan': 35060,\n",
              " 'sambiloto': 36454,\n",
              " 'mamaciaaa': 24510,\n",
              " 'mnrut': 27340,\n",
              " 'gue': 15250,\n",
              " 'jngan': 19144,\n",
              " 'dkt2': 11758,\n",
              " 'cb': 7926,\n",
              " 'dkt': 11757,\n",
              " 'puspa': 34212,\n",
              " 'jaya': 18742,\n",
              " 'damri': 9409,\n",
              " 'als': 2746,\n",
              " 'tran': 41997,\n",
              " 'jakarta': 18477,\n",
              " 'aj': 2306,\n",
              " 'komachiyama': 21974,\n",
              " 'tiati': 41491,\n",
              " 'kemenkesri': 20819,\n",
              " 'mohon': 27417,\n",
              " 'transparan': 42016,\n",
              " 'mudah': 27758,\n",
              " 'spt': 39087,\n",
              " 'utk': 43307,\n",
              " 'data': 9542,\n",
              " 'iya': 18271,\n",
              " 'gua': 15218,\n",
              " 'tau': 40400,\n",
              " 'ga': 14121,\n",
              " 'parno': 31185,\n",
              " 'gitu': 14883,\n",
              " 'kont': 22146,\n",
              " 'prosedur': 33898,\n",
              " 'tp': 41941,\n",
              " 'gk': 14905,\n",
              " 'lebay': 23261,\n",
              " 'bikin': 6430,\n",
              " 'risih': 35600,\n",
              " 'gilang': 14829,\n",
              " 'mahesa': 24278,\n",
              " 'bogor': 6839,\n",
              " 'blum': 6729,\n",
              " 'imajinarii': 17330,\n",
              " 'iyaaa': 18273,\n",
              " 'kehitung': 20553,\n",
              " 'angett': 3119,\n",
              " 'obat': 30147,\n",
              " 'teler': 40607,\n",
              " 'gabisa': 14144,\n",
              " 'bobo': 6805,\n",
              " 'dibawelin': 10217,\n",
              " 'sedih': 37058,\n",
              " 'emang': 12717,\n",
              " 'amiinn': 2908,\n",
              " 'makasih': 24376,\n",
              " 'ya': 45075,\n",
              " 'amit': 2928,\n",
              " 'kena': 20879,\n",
              " 'momen': 27439,\n",
              " 'dipakai': 10980,\n",
              " 'pencitraan': 31879,\n",
              " 'semoga': 37465,\n",
              " 'masif': 24914,\n",
              " 'penyebaran': 32236,\n",
              " 'kapok': 19963,\n",
              " 'rlt': 35687,\n",
              " 'mikirin': 26973,\n",
              " 'kata2': 20142,\n",
              " 'ortu': 30588,\n",
              " 'ku': 22506,\n",
              " 'meninggal': 26369,\n",
              " 'mekkah': 25362,\n",
              " 'karna': 20059,\n",
              " 'bentar': 5372,\n",
              " 'berangkat': 5425,\n",
              " 'umroh': 42924,\n",
              " 'sengaja': 37535,\n",
              " 'makan': 24357,\n",
              " 'dikasih': 10627,\n",
              " 'virus': 43661,\n",
              " 'sumpah': 39594,\n",
              " 'gatau': 14447,\n",
              " 'bereaksi': 5566,\n",
              " 'kayak': 20233,\n",
              " 'udh': 42693,\n",
              " 'dmn': 11789,\n",
              " 'kl': 21759,\n",
              " 'emg': 12735,\n",
              " 'mo': 27356,\n",
              " 'begimana': 5185,\n",
              " 'lg': 23447,\n",
              " 'jateng': 18677,\n",
              " 'jatim': 18687,\n",
              " 'siaga': 38126,\n",
              " 'info': 17626,\n",
              " 'disebar': 11279,\n",
              " 'jabar': 18346,\n",
              " 'silent': 38284,\n",
              " 'yak': 45132,\n",
              " 'kabar2': 19555,\n",
              " 'pisan': 32968,\n",
              " 'prediksi': 33669,\n",
              " 'pola': 33240,\n",
              " 'amp': 2951,\n",
              " 'sejarah': 37169,\n",
              " 'perjalanan': 32457,\n",
              " 'orang': 30538,\n",
              " 'indo': 17519,\n",
              " 'singapura': 38368,\n",
              " 'clear': 8565,\n",
              " 'malaysia': 24460,\n",
              " 'undertesting': 42992,\n",
              " 'indonesia': 17536,\n",
              " 'angka': 3144,\n",
              " '130': 265,\n",
              " 'terinfeksi': 40966,\n",
              " 'rendah': 35254,\n",
              " 'probabilitas': 33808,\n",
              " 'dll': 11769,\n",
              " 'dst': 12112,\n",
              " 'back': 4340,\n",
              " 'of': 30219,\n",
              " 'the': 41347,\n",
              " 'hand': 15716,\n",
              " 'calculation': 7726,\n",
              " 'time': 41559,\n",
              " 'will': 44501,\n",
              " 'tell': 40619,\n",
              " 'sebener': 36983,\n",
              " 'dr': 12021,\n",
              " 'sih': 38218,\n",
              " 'kesadaran': 21134,\n",
              " 'masi': 24911,\n",
              " 'egois': 12515,\n",
              " 'pemerintah': 31744,\n",
              " 'kebijakan': 20383,\n",
              " 'warga': 44164,\n",
              " 'jaga': 18413,\n",
              " 'tindakan': 41579,\n",
              " 'preventif': 33729,\n",
              " 'guys': 15363,\n",
              " 'malem': 24468,\n",
              " 'minggu': 27055,\n",
              " 'main': 24309,\n",
              " 'mall': 24486,\n",
              " 'pagi': 30827,\n",
              " 'covid': 8946,\n",
              " '19': 352,\n",
              " 'senin': 37546,\n",
              " 'isolasi': 18109,\n",
              " 'selasa': 37309,\n",
              " 'mati': 25050,\n",
              " 'untung': 43078,\n",
              " 'rebahan': 35051,\n",
              " 'dirumah': 11205,\n",
              " 'aje': 2330,\n",
              " 'prabndriapsari': 33577,\n",
              " 'penulara': 32195,\n",
              " 'cepat': 8050,\n",
              " 'odikcontinental': 30203,\n",
              " 'elisa': 12667,\n",
              " 'jkt': 19098,\n",
              " 'jabarprovgoid': 18352,\n",
              " 'humasjabar': 16769,\n",
              " 'efek': 12483,\n",
              " 'dipublish': 11128,\n",
              " 'bisa2': 6551,\n",
              " 'waspada': 44229,\n",
              " 'perilaku': 32437,\n",
              " 'kelompok': 20722,\n",
              " 'spreader': 39076,\n",
              " 'menyebarluaskan': 26585,\n",
              " 'mana2': 24547,\n",
              " 'minimal': 27065,\n",
              " 'klo': 21800,\n",
              " 'wilayah': 44493,\n",
              " 'zona': 45883,\n",
              " 'sembarangan': 37418,\n",
              " 'batuk': 4967,\n",
              " 'bersin': 6038,\n",
              " 'parah': 31139,\n",
              " 'congorna': 8759,\n",
              " 'sianjing': 38139,\n",
              " 'goblok': 14971,\n",
              " 'semangat': 37394,\n",
              " 'pasien': 31241,\n",
              " 'org': 30559,\n",
              " 'sehat': 37124,\n",
              " 'terkait': 41002,\n",
              " 'berjuang': 5745,\n",
              " 'melawan': 25406,\n",
              " 'perlahan': 32488,\n",
              " 'menyebar': 26582,\n",
              " 'luas': 23901,\n",
              " 'bertambah': 6072,\n",
              " 'lupa': 23980,\n",
              " 'berdoa': 5556,\n",
              " 'cuci': 9079,\n",
              " 'tangan': 40225,\n",
              " 'pk': 33009,\n",
              " 'masker': 24933,\n",
              " 'wow': 44734,\n",
              " 'akhirny': 2415,\n",
              " 'sy': 39844,\n",
              " 'dieditin': 10413,\n",
              " 'pake': 30884,\n",
              " 'thx': 41468,\n",
              " 'spilldalattetuk': 39048,\n",
              " 'menghindari': 26224,\n",
              " 'onlen': 30430,\n",
              " 'dhonipusing': 10045,\n",
              " 'sakit': 36312,\n",
              " 'daftar': 9301,\n",
              " 'peserta': 32693,\n",
              " 'simulasi': 38333,\n",
              " 'buatsiapa17': 7299,\n",
              " 'khrsmallm': 21499,\n",
              " 'jimanah': 19014,\n",
              " 'dikriminalisasi': 10710,\n",
              " 'nih': 29333,\n",
              " 'masak': 24878,\n",
              " 'jenderal': 18864,\n",
              " 'berani2': 5428,\n",
              " 'terpapar': 41105,\n",
              " 'faham': 13284,\n",
              " 'radikar': 34601,\n",
              " 'fpi': 13888,\n",
              " 'kah': 19658,\n",
              " 'cek': 7983,\n",
              " 'fakta': 13342,\n",
              " 'tito': 41664,\n",
              " 'karnavian': 20060,\n",
              " 'istri': 18139,\n",
              " 'edc': 12425,\n",
              " 'yukk': 45569,\n",
              " 'sempetin': 37475,\n",
              " 'habis': 15467,\n",
              " 'sholat': 38068,\n",
              " 'baca': 4321,\n",
              " 'doa': 11814,\n",
              " 'end': 12805,\n",
              " 'before': 5174,\n",
              " 'ramadhan': 34761,\n",
              " 'skrinews': 38567,\n",
              " 'pingkan': 32931,\n",
              " 'pijoh': 32858,\n",
              " 'mphm': 27589,\n",
              " 'dk': 11739,\n",
              " 'satgas': 36676,\n",
              " 'skrining': 38568,\n",
              " 'antisipasi': 3298,\n",
              " 'ke': 20297,\n",
              " 'penumpang': 32201,\n",
              " 'km': 21819,\n",
              " 'sinabung': 38338,\n",
              " 'tangkal': 40261,\n",
              " 'prancis': 33623,\n",
              " 'tutup': 42470,\n",
              " 'toko': 41833,\n",
              " 'restoran': 35376,\n",
              " 'bar': 4809,\n",
              " 'hashim': 15912,\n",
              " 'memes': 25673,\n",
              " 'do': 11813,\n",
              " 'semana': 37390,\n",
              " 'vs': 43800,\n",
              " 'anak': 2994,\n",
              " 'keluarga': 20731,\n",
              " 'belajar': 5239,\n",
              " 'jalan2': 18504,\n",
              " 'mengunjungi': 26323,\n",
              " 'kumpulan': 22612,\n",
              " 'saudara': 36724,\n",
              " 'seandainya': 36933,\n",
              " '10': 183,\n",
              " 'terlular': 41052,\n",
              " 'njungi': 29483,\n",
              " '14': 276,\n",
              " '15': 293,\n",
              " 'tanda2': 40214,\n",
              " 'kelapam1': 20670,\n",
              " 'dpn': 11998,\n",
              " 'gdg': 14529,\n",
              " 'merdeka': 26721,\n",
              " 'penuh': 32191,\n",
              " 'kegembiraan': 20522,\n",
              " 'melunturkan': 25486,\n",
              " 'savsap': 36752,\n",
              " 'tetep': 41251,\n",
              " 'citayem': 8520,\n",
              " 'anti': 3277,\n",
              " 'haha': 15545,\n",
              " 'nge': 28917,\n",
              " 'broadcast': 7183,\n",
              " 'ttg': 42205,\n",
              " 'please': 33074,\n",
              " 'pastikan': 31275,\n",
              " 'sumber': 39576,\n",
              " 'kredibel': 22371,\n",
              " 'nambahi': 28314,\n",
              " 'chaosan': 8180,\n",
              " 'sebarin': 36963,\n",
              " 'info2': 17627,\n",
              " 'hoax': 16511,\n",
              " 'smartphone': 38664,\n",
              " 'for': 13834,\n",
              " 'smart': 38658,\n",
              " 'people': 32279,\n",
              " 'nampak': 28328,\n",
              " 'how': 16620,\n",
              " 'stupid': 39355,\n",
              " 'most': 27536,\n",
              " 'our': 30652,\n",
              " 'menteri': 26478,\n",
              " 'are': 3552,\n",
              " 'waktu2': 44009,\n",
              " 'pandemik': 31012,\n",
              " 'ni': 29301,\n",
              " 'situ': 38481,\n",
              " 'berebut': 5567,\n",
              " 'kuasa': 22519,\n",
              " 'bergaduh': 5595,\n",
              " 'pasal': 31220,\n",
              " 'parti': 31202,\n",
              " 'instead': 17843,\n",
              " 'bekerjasama': 5225,\n",
              " 'membendung': 25583,\n",
              " 'this': 41420,\n",
              " 'mengkali': 26274,\n",
              " 'dorang': 11947,\n",
              " 'ba': 4275,\n",
              " 'urgent': 43158,\n",
              " 'meeting': 25322,\n",
              " 'lockdown': 23733,\n",
              " 'njayyyyy': 29464,\n",
              " 'moonforest': 27498,\n",
              " 'choihanie': 8323,\n",
              " 'thank': 41326,\n",
              " 'you': 45467,\n",
              " 'sama2': 36419,\n",
              " 'sehat2': 37125,\n",
              " 'cepet': 8055,\n",
              " 'just': 19461,\n",
              " 'stop': 39270,\n",
              " 'papap': 31115,\n",
              " 'posesif': 33461,\n",
              " 'stoppolitisasicorona': 39288,\n",
              " 'stoppaniklawancorona': 39287,\n",
              " 'stopcoronavirus': 39274,\n",
              " 'merana': 26692,\n",
              " 'dirumahaja': 11206,\n",
              " 'luqmenh': 23991,\n",
              " 'mmg': 27279,\n",
              " 'nak': 28269,\n",
              " 'lonely': 23792,\n",
              " 'sial': 38131,\n",
              " 'coronafa': 8867,\n",
              " 'dadi': 9281,\n",
              " 'kangen': 19891,\n",
              " 'nonton': 29594,\n",
              " 'pakde': 30880,\n",
              " 'lgsg': 23457,\n",
              " 'wedi': 44344,\n",
              " 'amare15': 2823,\n",
              " 'aniesbaswedan': 3175,\n",
              " 'jujur': 19398,\n",
              " 'pribadi': 33740,\n",
              " 'meningkatkan': 26376,\n",
              " 'kewaspadaan': 21369,\n",
              " 'senantiasa': 37504,\n",
              " 'menjaga': 26389,\n",
              " 'kebersihan': 20375,\n",
              " 'kabinet': 19576,\n",
              " 'gimana': 14841,\n",
              " 'duh': 12164,\n",
              " 'kota': 22279,\n",
              " 'negara': 28621,\n",
              " 'lock': 23730,\n",
              " 'down': 11976,\n",
              " 'presiden': 33698,\n",
              " 'lengah': 23358,\n",
              " 'hadapi': 15483,\n",
              " 'pandemi': 31008,\n",
              " 'kerja': 21101,\n",
              " 'yan': 45167,\n",
              " 'astaghfirullah': 3835,\n",
              " 'deket': 9728,\n",
              " 'fadlizon': 13275,\n",
              " 'msaid': 27657,\n",
              " 'didu': 10405,\n",
              " 'congor': 8757,\n",
              " 'luh': 23932,\n",
              " 'ruqyah': 36038,\n",
              " 'zonk': 45889,\n",
              " 'biar': 6362,\n",
              " 'pas': 31216,\n",
              " 'arwah': 3693,\n",
              " 'lo': 23716,\n",
              " 'gentayangan': 14669,\n",
              " 'jdi': 18777,\n",
              " 'hantu': 15759,\n",
              " 'pnasaran': 33160,\n",
              " 'sat': 36670,\n",
              " 'lantas': 23075,\n",
              " 'polres': 33308,\n",
              " 'dairi': 9342,\n",
              " 'sosialisasi': 38953,\n",
              " 'tertib': 41186,\n",
              " 'lalulintas': 22991,\n",
              " 'cegah': 7972,\n",
              " 'pakai': 30866,\n",
              " 'bahasa': 4443,\n",
              " 'pakpak': 30905,\n",
              " 'deviliadp': 9963,\n",
              " 'hyg': 16920,\n",
              " 'ramen': 34797,\n",
              " 'ngan': 28848,\n",
              " 'tua': 42225,\n",
              " 'madah': 24165,\n",
              " 'nang': 28359,\n",
              " 'sik': 38242,\n",
              " 'jerakk': 18904,\n",
              " 'ekor': 12599,\n",
              " 'tok': 41824,\n",
              " 'sampei': 36489,\n",
              " 'dajjal': 9343,\n",
              " 'kelua': 20727,\n",
              " 'imam': 17332,\n",
              " 'mahdi': 24276,\n",
              " 'turun': 42440,\n",
              " 'lom': 23779,\n",
              " 'juak': 19354,\n",
              " 'kali': 19742,\n",
              " 'settle': 37854,\n",
              " 'mun': 27913,\n",
              " 'dah': 9318,\n",
              " 'gia': 14790,\n",
              " 'gilak': 14828,\n",
              " 'schrijnemakerss': 36864,\n",
              " 'berubah': 6120,\n",
              " 'duitt': 12172,\n",
              " 'niatan': 29308,\n",
              " 'touring': 41929,\n",
              " 'ditunda': 11628,\n",
              " 'harap2': 15808,\n",
              " 'issue': 18120,\n",
              " 'berlarut': 5841,\n",
              " 'festival': 13573,\n",
              " 'fyp': 14081,\n",
              " 'takdelah': 40102,\n",
              " 'student2': 39340,\n",
              " 'stress': 39320,\n",
              " 'cauchemar': 7915,\n",
              " 'exe': 13164,\n",
              " 'gang': 14331,\n",
              " 'kodokkkk': 21916,\n",
              " 'dennysiregar7': 9832,\n",
              " 'tdk': 40476,\n",
              " 'salahkan': 36349,\n",
              " 'peesiden': 31475,\n",
              " 'umumin': 42929,\n",
              " 'deny': 9838,\n",
              " 'bicara': 6391,\n",
              " 'bully': 7450,\n",
              " 'menyebarkan': 26584,\n",
              " 'cerita': 8070,\n",
              " 'ok': 30294,\n",
              " 'awal': 4055,\n",
              " 'maret': 24767,\n",
              " 'dibuka': 10295,\n",
              " 'besok': 6169,\n",
              " 'aa': 1641,\n",
              " 'kudu': 22544,\n",
              " 'banyakin': 4775,\n",
              " 'stoct': 39265,\n",
              " 'suplemen': 39666,\n",
              " 'pendidik': 31910,\n",
              " 'sistem': 38456,\n",
              " 'imun': 17412,\n",
              " 'pintar': 32945,\n",
              " 'dlm': 11772,\n",
              " 'mengenali': 26117,\n",
              " 'bakteri': 4527,\n",
              " 'kuman': 22598,\n",
              " 'parasit': 31153,\n",
              " 'lindungilah': 23589,\n",
              " 'wabah': 43896,\n",
              " 'penyakit': 32217,\n",
              " 'mematikan': 25532,\n",
              " 'amin': 2910,\n",
              " 'coronavirusupdates': 8903,\n",
              " 'covid19indonesia': 8952,\n",
              " 'covid19': 8947,\n",
              " 'https': 16680,\n",
              " 'co': 8622,\n",
              " 't8stevag1q': 39970,\n",
              " 'tuhan': 42266,\n",
              " 'terserah': 41155,\n",
              " 'arsenal': 3664,\n",
              " 'juara': 19368,\n",
              " 'piala': 32818,\n",
              " 'dunia': 12216,\n",
              " 'klub': 21815,\n",
              " 'dipanggil': 10993,\n",
              " 'kabulkanlah': 19583,\n",
              " 'berdasarkan': 5537,\n",
              " 'diumumkan': 11652,\n",
              " 'yuk': 45566,\n",
              " 'tubuh': 42239,\n",
              " 'fit': 13696,\n",
              " 'rajin': 34716,\n",
              " 'mencuci': 25884,\n",
              " 'sohib': 38831,\n",
              " 'indonesiabaik': 17539,\n",
              " 'yangmudasukadata': 45181,\n",
              " 'dailyissue': 9338,\n",
              " 'programpemerintah': 33855,\n",
              " 'viruscorona': 43665,\n",
              " 'sc0qijt0y5': 36847,\n",
              " 'malahay48802284': 24439,\n",
              " 'pemetikkadrun08': 31759,\n",
              " 'arrahim': 3646,\n",
              " 'coffeeandme': 8668,\n",
              " 'siagian': 38127,\n",
              " 'boyke': 7041,\n",
              " 'hairaniemmi': 15589,\n",
              " 'sujatnalina': 39481,\n",
              " 'anakkolong': 3002,\n",
              " 'soeripsarap': 38815,\n",
              " 'airin': 2278,\n",
              " 'nz': 30092,\n",
              " 'ngomong2': 29225,\n",
              " 'kafir': 19641,\n",
              " 'kyak': 22796,\n",
              " 'blm': 6696,\n",
              " 'blg': 6681,\n",
              " 'tentara': 40752,\n",
              " 'nyerang': 30010,\n",
              " 'knp': 21869,\n",
              " 'mekah': 25356,\n",
              " 'menutup': 26539,\n",
              " 'pintu': 32954,\n",
              " 'mengantisipasi': 26066,\n",
              " 'bs': 7243,\n",
              " 'gy': 15388,\n",
              " 'eh': 12521,\n",
              " 'ketinggalan': 21316,\n",
              " 'wni': 44653,\n",
              " 'paksa': 30908,\n",
              " 'thailand': 41317,\n",
              " 'batalkan': 4929,\n",
              " 'gelaran': 14585,\n",
              " 'motogp': 27553,\n",
              " 'y9eygual3u': 45070,\n",
              " 'byk': 7619,\n",
              " 'dilingkaran': 10792,\n",
              " 'kekuasaan': 20636,\n",
              " 'pe': 31418,\n",
              " 'rcayalah': 34994,\n",
              " 'satoedoeasatoe': 36688,\n",
              " 'bungretweet': 7498,\n",
              " 'ngapayah': 28879,\n",
              " 'rumahbhinneka': 36006,\n",
              " 'rahmatsn': 34669,\n",
              " 'dagdigduq': 9313,\n",
              " 'lutfi': 24008,\n",
              " 'harizal': 15867,\n",
              " 'andiarief': 3065,\n",
              " 'koko28': 21939,\n",
              " 'hitc': 16412,\n",
              " 'batalin': 4928,\n",
              " 'si': 38120,\n",
              " 'postpone': 33498,\n",
              " 'ajaaaa': 2310,\n",
              " 'kasihh': 20123,\n",
              " 'pendapat': 31890,\n",
              " 'udah': 42675,\n",
              " 'coronavirusindonesia': 8892,\n",
              " 'firseokjin': 13678,\n",
              " 'temen': 40662,\n",
              " 'rush': 36047,\n",
              " 'sanitizer': 36557,\n",
              " 'depok': 9856,\n",
              " 'timeline': 41562,\n",
              " 'doang': 11822,\n",
              " 'isi': 18058,\n",
              " 'nasional': 28447,\n",
              " 'fraksi': 13910,\n",
              " 'pks': 33034,\n",
              " 'se': 36923,\n",
              " 'diimbau': 10543,\n",
              " 'edukasi': 12452,\n",
              " 'media': 25282,\n",
              " 'radio': 34602,\n",
              " 'online': 30431,\n",
              " 'terbaru': 40842,\n",
              " 'terpercaya': 41114,\n",
              " 'lrzibxdhdv': 23872,\n",
              " 'tuhhh': 42269,\n",
              " 'menkes': 26430,\n",
              " 'dengerin': 9814,\n",
              " 'ci0to7wexp': 8373,\n",
              " 'walkot': 44049,\n",
              " '70': 1268,\n",
              " 'an': 2986,\n",
              " 'perawat': 32325,\n",
              " 'rs': 35916,\n",
              " 'interaksi': 17882,\n",
              " 'u5gdmw1g7g': 42593,\n",
              " 'g1u2ryrboo': 14098,\n",
              " 'tinggal': 41586,\n",
              " 'perumahan': 32661,\n",
              " 'studio': 39346,\n",
              " 'alam': 2543,\n",
              " 'sukmajaya': 39519,\n",
              " 'waltonkate': 44064,\n",
              " 'salah': 36343,\n",
              " 'wapres': 44148,\n",
              " 'wakil': 44001,\n",
              " 'iran': 17986,\n",
              " 'sesuai': 37791,\n",
              " 'dgn': 9995,\n",
              " 'keputusan': 21049,\n",
              " 'ri': 35467,\n",
              " 'nomor': 29573,\n",
              " 'hk': 16436,\n",
              " '01': 9,\n",
              " '07': 51,\n",
              " '104': 207,\n",
              " '2020': 489,\n",
              " 'bentuk': 5381,\n",
              " 'pembiayaan': 31701,\n",
              " 'rangka': 34841,\n",
              " 'upaya': 43097,\n",
              " 'penanggulangan': 31846,\n",
              " 'ditanggung': 11502,\n",
              " 'kemenkes': 20818,\n",
              " 'pemda': 31723,\n",
              " 'dana': 9411,\n",
              " 'sah': 36243,\n",
              " 'ketentuan': 21278,\n",
              " 'perundang': 32664,\n",
              " 'undangan': 42988,\n",
              " 'r86jk4zgym': 34533,\n",
              " 'sorotnews': 38946,\n",
              " 'iaw5dpi3fq': 16980,\n",
              " 'bilang': 6440,\n",
              " '2fqxho1qtn': 629,\n",
              " 'kurawa': 22672,\n",
              " 'profesionalisme': 33835,\n",
              " 'uji': 42772,\n",
              " 'om': 30353,\n",
              " 'mrjuna': 27632,\n",
              " '02': 17,\n",
              " 'kalamian': 19723,\n",
              " 'na': 28157,\n",
              " 'husus': 16865,\n",
              " 'jang': 18582,\n",
              " 'mencontoh': 25877,\n",
              " 'wuhan': 44799,\n",
              " 'china': 8281,\n",
              " 'coronavirus': 8886,\n",
              " 'coronavirusoutbreak': 8896,\n",
              " 'breakingnews': 7125,\n",
              " 'viuscoronaupdate': 43698,\n",
              " '2wni': 675,\n",
              " 'terawan': 40821,\n",
              " 'maskermahal': 24944,\n",
              " 'janganpanik': 18595,\n",
              " 'suspect': 39748,\n",
              " 'rupjkyu6uh': 36036,\n",
              " 'realabikatrader': 35020,\n",
              " 'seh': 37116,\n",
              " 'sembuh': 37423,\n",
              " 'pa': 30766,\n",
              " 'neh': 28645,\n",
              " 'anindiyanidiya1': 3184,\n",
              " 'pertengahan': 32639,\n",
              " 'feburari': 13517,\n",
              " 'netizen': 28720,\n",
              " 'seindonesia': 37152,\n",
              " 'nyinyirin': 30046,\n",
              " 'bbrp': 5053,\n",
              " 'beredar': 5569,\n",
              " 'video': 43590,\n",
              " 'singapore': 38365,\n",
              " 'memuji': 25772,\n",
              " 'menjadikan': 26388,\n",
              " 'beliau': 5272,\n",
              " 'referensi': 35111,\n",
              " 'kagum': 19655,\n",
              " 'ngeliat': 29030,\n",
              " 'fenomena': 13550,\n",
              " 'tsb': 42176,\n",
              " 'heran': 16163,\n",
              " 'krn': 22424,\n",
              " 'gaya': 14479,\n",
              " 'santuy': 36587,\n",
              " 'dokter2': 11867,\n",
              " 'ngasih': 28896,\n",
              " 'lempeng': 23352,\n",
              " 'kadang': 19602,\n",
              " 'dibecandain': 10223,\n",
              " 'mrk': 27633,\n",
              " 'teori': 40764,\n",
              " 'dsb': 12097,\n",
              " 'dsa': 12093,\n",
              " 'jg': 18946,\n",
              " 'faizalassegaf': 13321,\n",
              " 'konfrensi': 22097,\n",
              " 'pers': 32559,\n",
              " 'ferdinandhaean2': 13555,\n",
              " 'klihatan': 21790,\n",
              " 'bego': 5193,\n",
              " 'lae': 22883,\n",
              " 'sndiri': 38729,\n",
              " 'bntah': 6779,\n",
              " 'barang': 4824,\n",
              " 'trs': 42139,\n",
              " 'dri': 12048,\n",
              " 'otak': 30618,\n",
              " 'mna': 27292,\n",
              " 'otakgy': 30619,\n",
              " 'kgy': 21402,\n",
              " 'hebat': 16057,\n",
              " 'darimana': 9493,\n",
              " 'ilmu': 17304,\n",
              " 'kadrun': 19624,\n",
              " 'gl': 14909,\n",
              " 'include': 17476,\n",
              " 'jgn': 18953,\n",
              " 'lu': 23892,\n",
              " 'keterangan': 21280,\n",
              " 'asem': 3727,\n",
              " 'kibul': 21530,\n",
              " 'sma': 38649,\n",
              " 'abetpunx': 1763,\n",
              " 'ributtttt': 35490,\n",
              " 'sosmed': 38962,\n",
              " 'giliran': 14837,\n",
              " 'sebelah': 36973,\n",
              " 'ngomong': 29224,\n",
              " 'mingkeemmm': 27058,\n",
              " 'membenarkan': 25580,\n",
              " 'dasar': 9531,\n",
              " 'bahlul': 4461,\n",
              " 'ngablak': 28784,\n",
              " 'sok': 38833,\n",
              " 'pinter': 32948,\n",
              " 'jjrizal': 19082,\n",
              " 'fktmb': 13733,\n",
              " 'det': 9926,\n",
              " 'cc': 7936,\n",
              " 'insidefajar': 17815,\n",
              " 'cittairlanie': 8528,\n",
              " 'smua': 38714,\n",
              " 'who': 44442,\n",
              " 'bebal': 5112,\n",
              " 'kalah': 19719,\n",
              " 'cangih': 7785,\n",
              " 'desember': 9901,\n",
              " 'meble': 25266,\n",
              " 'aiv93v18vt': 2302,\n",
              " 'kondisi': 22076,\n",
              " 'kiasumarketer': 21524,\n",
              " 'eljpskxrw6': 12673,\n",
              " 'geiszchalifah': 14574,\n",
              " 'coba': 8630,\n",
              " 'cina': 8464,\n",
              " 'sono': 38907,\n",
              " 'bgtu': 6269,\n",
              " 'iri': 18007,\n",
              " 'dianggap': 10127,\n",
              " 'sombong': 38876,\n",
              " 'bintang': 6512,\n",
              " 'dokter': 11866,\n",
              " 'terkenal': 41010,\n",
              " 'prabowo': 33578,\n",
              " 'sm': 38646,\n",
              " 'sdh': 36906,\n",
              " 'sumbang': 39568,\n",
              " 'nyinyiran': 30045,\n",
              " 'makian': 24393,\n",
              " 'ujaran': 42771,\n",
              " 'kebencian': 20360,\n",
              " 'ustadtengkuzul': 43250,\n",
              " 'mencegah': 25853,\n",
              " 'pendekatan': 31898,\n",
              " 'pengobatan': 32098,\n",
              " 'memiliki': 25692,\n",
              " 'pengelolaan': 32012,\n",
              " 'kesehatan': 21171,\n",
              " 'publik': 34068,\n",
              " 'menhub': 26350,\n",
              " 'metode': 26842,\n",
              " 'pukulan': 34102,\n",
              " 'telak': 40592,\n",
              " 'buata': 7296,\n",
              " 'xffsxsjsuq': 44921,\n",
              " 'jatonduixk': 18701,\n",
              " 'anindyaw': 3185,\n",
              " 'diprivate': 11119,\n",
              " 'retweet': 35397,\n",
              " 'send': 37510,\n",
              " 'tercinta': 40881,\n",
              " 'tips': 41626,\n",
              " 'ala': 2531,\n",
              " 'imunitas': 17414,\n",
              " 'rajinlah': 34717,\n",
              " '12pbo8nk9k': 262,\n",
              " 'budihidayat20': 7348,\n",
              " 'disuruh': 11460,\n",
              " 'govlo': 15098,\n",
              " 'gitugy': 14887,\n",
              " 'd4tuk': 9238,\n",
              " 't4mburin': 39954,\n",
              " 'pernyataan': 32532,\n",
              " 'aneh': 3097,\n",
              " 'bibir': 6386,\n",
              " 'jeplak': 18900,\n",
              " 'm3chy': 24086,\n",
              " 'coronabukaborokrezim': 8863,\n",
              " 'jansen': 18617,\n",
              " 'jsp': 19334,\n",
              " 'jenguk': 18876,\n",
              " 'sien': 38196,\n",
              " 'full': 14023,\n",
              " 'body': 6834,\n",
              " 'rachmarach': 34570,\n",
              " 'sondp992': 38891,\n",
              " 'rapat': 34869,\n",
              " 'gas': 14420,\n",
              " 'wkwk': 44600,\n",
              " 'zarazettirazr': 45725,\n",
              " 'donadam68': 11899,\n",
              " 'ditiadakan': 11570,\n",
              " 'peran': 32302,\n",
              " 'asumsi': 3851,\n",
              " 'cetek': 8093,\n",
              " 'pusing': 34205,\n",
              " 'kesel': 21176,\n",
              " 'bgt': 6267,\n",
              " 'kontroversial': 22172,\n",
              " 'cobalah': 8636,\n",
              " 'menghadapi': 26191,\n",
              " 'langkah2': 23052,\n",
              " 'nyata': 29953,\n",
              " 'terukur': 41202,\n",
              " 'bola': 6889,\n",
              " 'bali': 4562,\n",
              " 'pandu90s': 31017,\n",
              " 'kemaren': 20773,\n",
              " 'live': 23663,\n",
              " 'interpiu': 17896,\n",
              " 'tvri': 42495,\n",
              " 'kaya': 20228,\n",
              " 'bener': 5335,\n",
              " 'doi': 11855,\n",
              " 'butuh': 7567,\n",
              " 'jubir': 19371,\n",
              " 'deh': 9713,\n",
              " 'yes': 45323,\n",
              " 'sadar': 36207,\n",
              " 'menghujat': 26232,\n",
              " 'qsaopl4y3u': 34430,\n",
              " 'mamang': 24519,\n",
              " 'kyk': 22802,\n",
              " 'flu': 13768,\n",
              " 'mainstream': 24318,\n",
              " 'berkurang': 5827,\n",
              " 'udara': 42686,\n",
              " 'sebersih': 36989,\n",
              " 'plis': 33099,\n",
              " 'korsel': 22251,\n",
              " 'noh': 29549,\n",
              " '1xebrfhvqw': 454,\n",
              " 'ra': 34546,\n",
              " 'dong': 11913,\n",
              " 'zulkiflilubis71': 45939,\n",
              " 'ydrsqukg81': 45276,\n",
              " 'versi': 43535,\n",
              " 'merahputih': 26679,\n",
              " 'menterikesehatan': 26482,\n",
              " 'ceuewagjg0': 8096,\n",
              " 'ganimichel': 14343,\n",
              " 'adamhjudge': 1910,\n",
              " 'iy': 18269,\n",
              " 'ngikutin': 29168,\n",
              " 'gapake': 14375,\n",
              " 'horor': 16591,\n",
              " 'gambaran': 14281,\n",
              " 'orang2': 30539,\n",
              " 'tiba2': 41493,\n",
              " 'jatoh': 18699,\n",
              " 'trus': 42153,\n",
              " 'zombi': 45880,\n",
              " 'apocalypse': 3448,\n",
              " 'pengamat': 31977,\n",
              " 'nilai': 29375,\n",
              " 'anggap': 3123,\n",
              " 'remeh': 35229,\n",
              " 'up': 43089,\n",
              " 'tagar': 40037,\n",
              " 'aliansi': 2643,\n",
              " 'komen': 21986,\n",
              " 'hamdjr787': 15675,\n",
              " 'me': 25254,\n",
              " 'lodya': 23744,\n",
              " 'k4nceuh': 19522,\n",
              " 'semut': 37496,\n",
              " 'ireng98': 17999,\n",
              " 'pejuangreceeeh': 31509,\n",
              " ...}"
            ]
          },
          "metadata": {},
          "execution_count": 35
        }
      ]
    },
    {
      "cell_type": "code",
      "source": [
        "sentences_train = df_train_key\n",
        "sentences_test = df_test_key\n",
        "\n",
        "y_train = df_train_val\n",
        "y_test = df_test_val"
      ],
      "metadata": {
        "id": "Yo-SLmQUkDMa"
      },
      "execution_count": null,
      "outputs": []
    },
    {
      "cell_type": "code",
      "source": [
        "for i in range (len(y_train)):\n",
        "  if (y_train[i] == 'no'):\n",
        "    y_train[i] = 0\n",
        "  elif (y_train[i] == 'yes'):\n",
        "    y_train[i] = 1\n",
        "  else:\n",
        "    break\n",
        "\n",
        "y_train = y_train.astype('int')\n",
        "y_train"
      ],
      "metadata": {
        "colab": {
          "base_uri": "https://localhost:8080/"
        },
        "id": "eBaSeSBvjWqx",
        "outputId": "ec528e0b-fef4-4ae2-a21b-f154e0f2925b"
      },
      "execution_count": null,
      "outputs": [
        {
          "output_type": "execute_result",
          "data": {
            "text/plain": [
              "array([0, 0, 1, ..., 0, 0, 0])"
            ]
          },
          "metadata": {},
          "execution_count": 37
        }
      ]
    },
    {
      "cell_type": "code",
      "source": [
        "for i in range (len(y_test)):\n",
        "  if (y_test[i] == 'no'):\n",
        "    y_test[i] = 0\n",
        "  elif (y_test[i] == 'yes'):\n",
        "    y_test[i] = 1\n",
        "  else:\n",
        "    break\n",
        "\n",
        "y_test = y_test.astype('int')\n",
        "y_test"
      ],
      "metadata": {
        "id": "boHnFeCmo2yI",
        "colab": {
          "base_uri": "https://localhost:8080/"
        },
        "outputId": "97e63fa4-9134-49e1-ca38-341ce7f0b6c5"
      },
      "execution_count": null,
      "outputs": [
        {
          "output_type": "execute_result",
          "data": {
            "text/plain": [
              "array([0, 0, 0, ..., 1, 0, 1])"
            ]
          },
          "metadata": {},
          "execution_count": 38
        }
      ]
    },
    {
      "cell_type": "code",
      "source": [
        "from sklearn.feature_extraction.text import CountVectorizer\n",
        "\n",
        "vectorizer = CountVectorizer()\n",
        "vectorizer.fit(sentences_train)\n",
        "\n",
        "X_train = vectorizer.transform(sentences_train)\n",
        "X_test  = vectorizer.transform(sentences_test)"
      ],
      "metadata": {
        "id": "gjr1OctaZ9_L"
      },
      "execution_count": null,
      "outputs": []
    },
    {
      "cell_type": "markdown",
      "source": [
        "## Model Keras"
      ],
      "metadata": {
        "id": "Wg9068Q7k3se"
      }
    },
    {
      "cell_type": "code",
      "source": [
        "!pip install keras"
      ],
      "metadata": {
        "colab": {
          "base_uri": "https://localhost:8080/"
        },
        "id": "BdiaCNqiZ93W",
        "outputId": "18480a56-6fff-41c9-affa-1bc638f3bce5"
      },
      "execution_count": null,
      "outputs": [
        {
          "output_type": "stream",
          "name": "stdout",
          "text": [
            "Looking in indexes: https://pypi.org/simple, https://us-python.pkg.dev/colab-wheels/public/simple/\n",
            "Requirement already satisfied: keras in /usr/local/lib/python3.7/dist-packages (2.8.0)\n"
          ]
        }
      ]
    },
    {
      "cell_type": "code",
      "source": [
        "from keras.models import Sequential\n",
        "from keras import layers\n",
        "\n",
        "model = Sequential()\n",
        "model.add(layers.Dense(10, input_dim=X_train.shape[1], activation='relu'))\n",
        "model.add(layers.Dense(1, activation='sigmoid'))"
      ],
      "metadata": {
        "id": "-ifIY2h6Z90s"
      },
      "execution_count": null,
      "outputs": []
    },
    {
      "cell_type": "code",
      "source": [
        "model.compile(loss='binary_crossentropy', \n",
        "              optimizer='adam', \n",
        "              metrics=['accuracy'])\n",
        "\n",
        "model.summary()"
      ],
      "metadata": {
        "colab": {
          "base_uri": "https://localhost:8080/"
        },
        "id": "AqTR_l78Z9yB",
        "outputId": "bfb384fe-e2bf-4b4d-b684-b3e37d2ffcd5"
      },
      "execution_count": null,
      "outputs": [
        {
          "output_type": "stream",
          "name": "stdout",
          "text": [
            "Model: \"sequential_1\"\n",
            "_________________________________________________________________\n",
            " Layer (type)                Output Shape              Param #   \n",
            "=================================================================\n",
            " dense_2 (Dense)             (None, 10)                460280    \n",
            "                                                                 \n",
            " dense_3 (Dense)             (None, 1)                 11        \n",
            "                                                                 \n",
            "=================================================================\n",
            "Total params: 460,291\n",
            "Trainable params: 460,291\n",
            "Non-trainable params: 0\n",
            "_________________________________________________________________\n"
          ]
        }
      ]
    },
    {
      "cell_type": "code",
      "source": [
        "history = model.fit(X_train, y_train,\n",
        "                    epochs=100,\n",
        "                    verbose=False,\n",
        "                    validation_data=(X_test, y_test),\n",
        "                    batch_size=10)"
      ],
      "metadata": {
        "colab": {
          "base_uri": "https://localhost:8080/"
        },
        "id": "FgZgxbUtZ9vx",
        "outputId": "f57f9a4c-21c1-4d00-e3e7-9ace8e9aa151"
      },
      "execution_count": null,
      "outputs": [
        {
          "output_type": "stream",
          "name": "stderr",
          "text": [
            "/usr/local/lib/python3.7/dist-packages/tensorflow/python/framework/indexed_slices.py:446: UserWarning: Converting sparse IndexedSlices(IndexedSlices(indices=Tensor(\"gradient_tape/sequential_1/dense_2/embedding_lookup_sparse/Reshape_1:0\", shape=(None,), dtype=int32), values=Tensor(\"gradient_tape/sequential_1/dense_2/embedding_lookup_sparse/Reshape:0\", shape=(None, 10), dtype=float32), dense_shape=Tensor(\"gradient_tape/sequential_1/dense_2/embedding_lookup_sparse/Cast:0\", shape=(2,), dtype=int32))) to a dense Tensor of unknown shape. This may consume a large amount of memory.\n",
            "  \"shape. This may consume a large amount of memory.\" % value)\n"
          ]
        }
      ]
    },
    {
      "cell_type": "code",
      "source": [
        "from keras.backend import clear_session\n",
        "clear_session()"
      ],
      "metadata": {
        "id": "7utXQd0KZ9tN"
      },
      "execution_count": null,
      "outputs": []
    },
    {
      "cell_type": "code",
      "source": [
        "loss, accuracy = model.evaluate(X_train, y_train, verbose=False)\n",
        "print(\"Training Accuracy: {:.4f}\".format(accuracy))\n",
        "print(\"Training Liss: {:.4f}\".format(loss))\n",
        "\n",
        "loss, accuracy = model.evaluate(X_test, y_test, verbose=False)\n",
        "print(\"Testing Accuracy:  {:.4f}\".format(accuracy))\n",
        "print(\"Testing Liss: {:.4f}\".format(loss))"
      ],
      "metadata": {
        "colab": {
          "base_uri": "https://localhost:8080/"
        },
        "id": "vKuGTArzZ9qv",
        "outputId": "ba816931-7b95-43c1-be10-064e3862c9db"
      },
      "execution_count": null,
      "outputs": [
        {
          "output_type": "stream",
          "name": "stdout",
          "text": [
            "Training Accuracy: 0.9926\n",
            "Training Liss: 0.0134\n",
            "Testing Accuracy:  0.7357\n",
            "Testing Liss: 2.0392\n"
          ]
        }
      ]
    },
    {
      "cell_type": "code",
      "source": [
        "import matplotlib.pyplot as plt\n",
        "plt.style.use('ggplot')\n",
        "\n",
        "def plot_history(history):\n",
        "    accuracy = history.history['accuracy']\n",
        "    val_accuracy = history.history['val_accuracy']\n",
        "\n",
        "    loss = history.history['loss']\n",
        "    val_loss = history.history['val_loss']\n",
        "\n",
        "    x = range(1, len(accuracy) + 1)\n",
        "\n",
        "    plt.figure(figsize=(12, 5))\n",
        "    plt.subplot(1, 2, 1)\n",
        "    plt.plot(x, accuracy, 'b', label='Training accuracy')\n",
        "    plt.plot(x, val_accuracy, 'r', label='Validation accuracy')\n",
        "    plt.title('Training and validation accuracy')\n",
        "    plt.legend()\n",
        "    \n",
        "    plt.subplot(1, 2, 2)\n",
        "    plt.plot(x, loss, 'b', label='Training loss')\n",
        "    plt.plot(x, val_loss, 'r', label='Validation loss')\n",
        "    plt.title('Training and validation loss')\n",
        "    plt.legend()\n",
        "\n",
        "plot_history(history)"
      ],
      "metadata": {
        "id": "mHe0JZbnZ9oH",
        "colab": {
          "base_uri": "https://localhost:8080/",
          "height": 337
        },
        "outputId": "cac3e1fd-d4e1-4922-f323-665d55c3689b"
      },
      "execution_count": null,
      "outputs": [
        {
          "output_type": "display_data",
          "data": {
            "text/plain": [
              "<Figure size 864x360 with 2 Axes>"
            ],
            "image/png": "[encoded data removed]"
          },
          "metadata": {}
        }
      ]
    },
    {
      "cell_type": "markdown",
      "source": [
        "## Word Embeddings"
      ],
      "metadata": {
        "id": "U0w61qtMwvZ2"
      }
    },
    {
      "cell_type": "code",
      "source": [
        "tokenizer = Tokenizer(num_words=5000)\n",
        "tokenizer.fit_on_texts(sentences_train)\n",
        "\n",
        "X_train = tokenizer.texts_to_sequences(sentences_train)\n",
        "X_test = tokenizer.texts_to_sequences(sentences_test)\n",
        "\n",
        "vocab_size = len(tokenizer.word_index) + 1\n",
        "\n",
        "print(sentences_train[2])\n",
        "print(X_train[2])"
      ],
      "metadata": {
        "id": "ZK3irYe-Z9bW",
        "colab": {
          "base_uri": "https://localhost:8080/"
        },
        "outputId": "2a5d684b-f48f-42f9-cdc9-7d87f013ba91"
      },
      "execution_count": null,
      "outputs": [
        {
          "output_type": "stream",
          "name": "stdout",
          "text": [
            "e100ss gini buka informasi sejelas nya identitas daerah penderita terjangkit infokan masyarakat mengisolasi nya kontak langsung penderita positif corona ditutup tutupi\n",
            "[1131, 114, 134, 279, 2, 1980, 112, 1619, 429, 39, 4721, 2, 656, 133, 1619, 31, 1, 591, 2616]\n"
          ]
        }
      ]
    },
    {
      "cell_type": "code",
      "source": [
        "df_train['l'] = df_train[\"text_a\"].apply(lambda x: len(str(x).split(' ')))\n",
        "\n",
        "q1 = df_train['l'].quantile(.25)\n",
        "q3 = df_train['l'].quantile(.75)\n",
        "iqr = q3 - q1\n",
        "high_outlier_limit = math.floor(q3 + 1.5*iqr)\n",
        "\n",
        "maxlen = high_outlier_limit\n",
        "print(maxlen)"
      ],
      "metadata": {
        "colab": {
          "base_uri": "https://localhost:8080/"
        },
        "id": "37q33Qp1m8I5",
        "outputId": "6dd567c4-0ad6-44dc-bed9-d2445de22ce4"
      },
      "execution_count": null,
      "outputs": [
        {
          "output_type": "stream",
          "name": "stdout",
          "text": [
            "40\n"
          ]
        }
      ]
    },
    {
      "cell_type": "code",
      "source": [
        "X_train = pad_sequences(X_train, padding='post', maxlen=maxlen)\n",
        "X_test = pad_sequences(X_test, padding='post', maxlen=maxlen)\n",
        "\n",
        "print(X_train[0])"
      ],
      "metadata": {
        "id": "Ddhgfmt-a1L3",
        "colab": {
          "base_uri": "https://localhost:8080/"
        },
        "outputId": "05d41416-2b03-420e-e964-6081bed2d60f"
      },
      "execution_count": null,
      "outputs": [
        {
          "output_type": "stream",
          "name": "stdout",
          "text": [
            "[ 134  531  625  177  759   63    1  123 1676  759    6 1563   15  214\n",
            "  256  532  759 2767   37   26 2767   70    0    0    0    0    0    0\n",
            "    0    0    0    0    0    0    0    0    0    0    0    0]\n"
          ]
        }
      ]
    },
    {
      "cell_type": "markdown",
      "source": [
        "## Word Embeddings: Glove"
      ],
      "metadata": {
        "id": "TMg7zTZMBPJ5"
      }
    },
    {
      "cell_type": "code",
      "source": [
        "def create_embedding_matrix(word_index, embedding_dim):\n",
        "    vocab_size = len(word_index) + 1\n",
        "    embedding_matrix = np.zeros((vocab_size, embedding_dim))\n",
        "\n",
        "    with open('drive/MyDrive/sentiment labelled sentences/glove.6B.50d.txt') as f:\n",
        "        for line in f:\n",
        "            word, *vector = line.split()\n",
        "            if word in word_index:\n",
        "                index = word_index[word] \n",
        "                embedding_matrix[index] = np.array(vector, dtype=np.float32)[:embedding_dim]\n",
        "\n",
        "    return embedding_matrix\n"
      ],
      "metadata": {
        "id": "Bs3kBdiOa0-Q"
      },
      "execution_count": null,
      "outputs": []
    },
    {
      "cell_type": "code",
      "source": [
        "embedding_matrix = create_embedding_matrix(tokenizer.word_index, embedding_dim=50)"
      ],
      "metadata": {
        "id": "fZBt0AESbHg5"
      },
      "execution_count": null,
      "outputs": []
    },
    {
      "cell_type": "code",
      "source": [
        "model = Sequential()\n",
        "model.add(layers.Embedding(vocab_size, \n",
        "                          embedding_dim=50, \n",
        "                          weights=[embedding_matrix], \n",
        "                          input_length=maxlen, \n",
        "                          trainable=False))\n",
        "\n",
        "model.add(layers.GlobalMaxPool1D())\n",
        "model.add(layers.Dense(10, activation='relu'))\n",
        "model.add(layers.Dense(1, activation='sigmoid'))\n",
        "model.compile(optimizer='adam',\n",
        "              loss='binary_crossentropy',\n",
        "              metrics=['accuracy'])\n",
        "model.summary()\n"
      ],
      "metadata": {
        "id": "WTJ-bCAWbTPr",
        "colab": {
          "base_uri": "https://localhost:8080/"
        },
        "outputId": "599982a3-ea68-408f-923d-9513d064c8de"
      },
      "execution_count": null,
      "outputs": [
        {
          "output_type": "stream",
          "name": "stdout",
          "text": [
            "Model: \"sequential_2\"\n",
            "_________________________________________________________________\n",
            " Layer (type)                Output Shape              Param #   \n",
            "=================================================================\n",
            " embedding_2 (Embedding)     (None, 40, 50)            2315750   \n",
            "                                                                 \n",
            " global_max_pooling1d_1 (Glo  (None, 50)               0         \n",
            " balMaxPooling1D)                                                \n",
            "                                                                 \n",
            " dense_4 (Dense)             (None, 10)                510       \n",
            "                                                                 \n",
            " dense_5 (Dense)             (None, 1)                 11        \n",
            "                                                                 \n",
            "=================================================================\n",
            "Total params: 2,316,271\n",
            "Trainable params: 521\n",
            "Non-trainable params: 2,315,750\n",
            "_________________________________________________________________\n"
          ]
        }
      ]
    },
    {
      "cell_type": "code",
      "source": [
        "history = model.fit(X_train, y_train,\n",
        "                    epochs=50,\n",
        "                    verbose=False,\n",
        "                    validation_data=(X_test, y_test),\n",
        "                    batch_size=10)\n",
        "loss, accuracy = model.evaluate(X_train, y_train, verbose=False)\n",
        "print(\"Training Accuracy: {:.4f}\".format(accuracy))\n",
        "loss, accuracy = model.evaluate(X_test, y_test, verbose=False)\n",
        "print(\"Testing Accuracy:  {:.4f}\".format(accuracy))\n",
        "plot_history(history)\n"
      ],
      "metadata": {
        "id": "Wjz5TnaBbhLK",
        "colab": {
          "base_uri": "https://localhost:8080/",
          "height": 374
        },
        "outputId": "638dd1f4-eb2d-44cc-8f35-cab932639706"
      },
      "execution_count": null,
      "outputs": [
        {
          "output_type": "stream",
          "name": "stdout",
          "text": [
            "Training Accuracy: 0.7978\n",
            "Testing Accuracy:  0.7954\n"
          ]
        },
        {
          "output_type": "display_data",
          "data": {
            "text/plain": [
              "<Figure size 864x360 with 2 Axes>"
            ],
            "image/png": "[encoded data removed]"
          },
          "metadata": {}
        }
      ]
    },
    {
      "cell_type": "markdown",
      "source": [
        "## CNN"
      ],
      "metadata": {
        "id": "bzCS1k5aBL2h"
      }
    },
    {
      "cell_type": "markdown",
      "source": [
        "### Model dengan Hyperparameter Optimization"
      ],
      "metadata": {
        "id": "MsgGFyhQiJn1"
      }
    },
    {
      "cell_type": "code",
      "source": [
        "def create_model(num_filters, kernel_size, vocab_size, embedding_dim, maxlen):\n",
        "    model = Sequential()\n",
        "    model.add(layers.Embedding(vocab_size, embedding_dim, input_length=maxlen))\n",
        "    model.add(layers.Conv1D(num_filters, kernel_size, activation='relu'))\n",
        "    model.add(layers.GlobalMaxPooling1D())\n",
        "    model.add(layers.Dense(10, activation='relu'))\n",
        "    model.add(layers.Dense(1, activation='sigmoid'))\n",
        "    model.compile(optimizer='adam',\n",
        "                  loss='binary_crossentropy',\n",
        "                  metrics=['accuracy'])\n",
        "    return model\n"
      ],
      "metadata": {
        "id": "UwsIUeNpbh2G"
      },
      "execution_count": null,
      "outputs": []
    },
    {
      "cell_type": "code",
      "source": [
        "from keras.wrappers.scikit_learn import KerasClassifier\n",
        "from sklearn.model_selection import RandomizedSearchCV\n",
        "\n",
        "embedding_dim = 100\n",
        "\n",
        "sentences_train = df_train_key\n",
        "sentences_test = df_test_key\n",
        "\n",
        "y_train = df_train_val\n",
        "y_test = df_test_val\n",
        "\n",
        "tokenizer = Tokenizer(num_words=5000)\n",
        "tokenizer.fit_on_texts(sentences_train)\n",
        "X_train = tokenizer.texts_to_sequences(sentences_train)\n",
        "X_test = tokenizer.texts_to_sequences(sentences_test)\n",
        "\n",
        "vocab_size = len(tokenizer.word_index) + 1\n",
        "\n",
        "X_train = pad_sequences(X_train, padding='post', maxlen=maxlen)\n",
        "X_test = pad_sequences(X_test, padding='post', maxlen=maxlen)\n",
        "\n",
        "param_grid = dict(num_filters=[32, 64, 128], kernel_size=[3, 5, 7], vocab_size=[vocab_size], embedding_dim=[embedding_dim], maxlen=[maxlen])\n",
        "\n",
        "model = KerasClassifier(build_fn=create_model, epochs=10, batch_size=10, verbose=False)\n",
        "\n",
        "grid = RandomizedSearchCV(estimator=model, param_distributions=param_grid, cv=4, verbose=1, n_iter=5)\n",
        "grid_result = grid.fit(X_train, y_train)\n",
        "\n",
        "test_accuracy = grid.score(X_test, y_test)\n",
        "\n",
        "print(grid_result.best_score_, grid_result.best_params_, test_accuracy)"
      ],
      "metadata": {
        "id": "HtUimGbVbhwd",
        "colab": {
          "base_uri": "https://localhost:8080/"
        },
        "outputId": "2e2eedfe-0e0b-4b9a-8ce8-01e40e590b53"
      },
      "execution_count": null,
      "outputs": [
        {
          "metadata": {
            "tags": null
          },
          "name": "stderr",
          "output_type": "stream",
          "text": [
            "/usr/local/lib/python3.7/dist-packages/ipykernel_launcher.py:24: DeprecationWarning: KerasClassifier is deprecated, use Sci-Keras (https://github.com/adriangb/scikeras) instead. See https://www.adriangb.com/scikeras/stable/migration.html for help migrating.\n"
          ]
        },
        {
          "metadata": {
            "tags": null
          },
          "name": "stdout",
          "output_type": "stream",
          "text": [
            "Fitting 4 folds for each of 5 candidates, totalling 20 fits\n"
          ]
        }
      ]
    },
    {
      "cell_type": "code",
      "source": [
        "# history = model.fit(X_train, y_train,\n",
        "#                     epochs=50,\n",
        "#                     verbose=False,\n",
        "#                     validation_data=(X_test, y_test),\n",
        "#                     batch_size=10)\n",
        "# loss, accuracy = model.evaluate(X_train, y_train, verbose=False)\n",
        "# print(\"Training Accuracy: {:.4f}\".format(accuracy))\n",
        "# loss, accuracy = model.evaluate(X_test, y_test, verbose=False)\n",
        "# print(\"Testing Accuracy:  {:.4f}\".format(accuracy))\n",
        "# plot_history(history)"
      ],
      "metadata": {
        "id": "Co7i5SDh9EV0"
      },
      "execution_count": null,
      "outputs": []
    },
    {
      "cell_type": "code",
      "source": [
        "# # diakhir ini\n",
        "# import numpy as np\n",
        "\n",
        "# predictions=model.predict(X_test) \n",
        "# classes_x=np.argmax(predictions,axis=1)\n",
        "# predictions\n",
        "\n",
        "# predictions = ['positive' if item == 1 else 'negative' for item in predictions]\n",
        "# predictions\n",
        "# # predictions[10] --> positive\n",
        "# # X_test"
      ],
      "metadata": {
        "id": "ZArfqUgo2J-g"
      },
      "execution_count": null,
      "outputs": []
    }
  ]
}